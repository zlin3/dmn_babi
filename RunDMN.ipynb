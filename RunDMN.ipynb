{
 "cells": [
  {
   "cell_type": "code",
   "execution_count": 1,
   "metadata": {
    "collapsed": true
   },
   "outputs": [],
   "source": [
    "from __future__ import unicode_literals, print_function, division\n",
    "from io import open\n",
    "import unicodedata\n",
    "import string\n",
    "import re\n",
    "import random\n",
    "\n",
    "import torch\n",
    "import torch.nn as nn\n",
    "from torch import optim\n",
    "import torch.nn.functional as F\n",
    "\n",
    "import matplotlib.pyplot as plt\n",
    "%matplotlib inline\n",
    "\n",
    "from babi_loader import BabiDataset, DataLoader, pad_collate\n",
    "from models.dmnModel import DMN\n",
    "from models.dmnModel import train as train_dmn\n",
    "from models.dmnModel import test as test_dmn\n",
    "\n",
    "device = torch.device(\"cuda\" if torch.cuda.is_available() else \"cpu\")"
   ]
  },
  {
   "cell_type": "code",
   "execution_count": 2,
   "metadata": {
    "collapsed": false
   },
   "outputs": [],
   "source": [
    "dset = BabiDataset(20)"
   ]
  },
  {
   "cell_type": "code",
   "execution_count": 3,
   "metadata": {
    "collapsed": false
   },
   "outputs": [],
   "source": [
    "batch_size = 100\n",
    "hidden_size = 80\n",
    "epoch = 256\n",
    "vocab_size = len(dset.QA.VOCAB)"
   ]
  },
  {
   "cell_type": "code",
   "execution_count": null,
   "metadata": {
    "collapsed": false
   },
   "outputs": [
    {
     "name": "stderr",
     "output_type": "stream",
     "text": [
      "/home/zhifeng/sail_data/NIPS2018/addtional/dmn/dmn/models/dmnModel.py:18: UserWarning: nn.init.xavier_normal is now deprecated in favor of nn.init.xavier_normal_.\n",
      "  if 'weight' in name: init.xavier_normal(param)\n",
      "/home/zhifeng/sail_data/NIPS2018/addtional/dmn/dmn/models/dmnModel.py:43: UserWarning: nn.init.xavier_normal is now deprecated in favor of nn.init.xavier_normal_.\n",
      "  if 'weight' in name: init.xavier_normal(param)\n",
      "/home/zhifeng/sail_data/NIPS2018/addtional/dmn/dmn/models/dmnModel.py:77: UserWarning: nn.init.xavier_normal is now deprecated in favor of nn.init.xavier_normal_.\n",
      "  init.xavier_normal(self.Wr.state_dict()['weight'])\n",
      "/home/zhifeng/sail_data/NIPS2018/addtional/dmn/dmn/models/dmnModel.py:79: UserWarning: nn.init.xavier_normal is now deprecated in favor of nn.init.xavier_normal_.\n",
      "  init.xavier_normal(self.W.state_dict()['weight'])\n",
      "/home/zhifeng/sail_data/NIPS2018/addtional/dmn/dmn/models/dmnModel.py:81: UserWarning: nn.init.xavier_normal is now deprecated in favor of nn.init.xavier_normal_.\n",
      "  init.xavier_normal(self.Ur.state_dict()['weight'])\n",
      "/home/zhifeng/sail_data/NIPS2018/addtional/dmn/dmn/models/dmnModel.py:83: UserWarning: nn.init.xavier_normal is now deprecated in favor of nn.init.xavier_normal_.\n",
      "  init.xavier_normal(self.U.state_dict()['weight'])\n",
      "/home/zhifeng/sail_data/NIPS2018/addtional/dmn/dmn/models/dmnModel.py:115: UserWarning: nn.init.xavier_normal is now deprecated in favor of nn.init.xavier_normal_.\n",
      "  init.xavier_normal(self.W1.state_dict()['weight'])\n",
      "/home/zhifeng/sail_data/NIPS2018/addtional/dmn/dmn/models/dmnModel.py:117: UserWarning: nn.init.xavier_normal is now deprecated in favor of nn.init.xavier_normal_.\n",
      "  init.xavier_normal(self.W2.state_dict()['weight'])\n",
      "/home/zhifeng/sail_data/NIPS2018/addtional/dmn/dmn/models/dmnModel.py:120: UserWarning: nn.init.xavier_normal is now deprecated in favor of nn.init.xavier_normal_.\n",
      "  init.xavier_normal(self.memory_weight.state_dict()['weight'])\n",
      "/home/zhifeng/sail_data/NIPS2018/addtional/dmn/dmn/models/dmnModel.py:64: UserWarning: nn.init.xavier_normal is now deprecated in favor of nn.init.xavier_normal_.\n",
      "  init.xavier_normal(self.z.state_dict()['weight'])\n",
      "/home/zhifeng/sail_data/NIPS2018/addtional/dmn/dmn/models/dmnModel.py:132: UserWarning: Implicit dimension choice for softmax has been deprecated. Change the call to include dim=X as an argument.\n",
      "  gates = F.softmax(gates)\n",
      "/home/zhifeng/sail_data/NIPS2018/addtional/dmn/dmn/models/dmnModel.py:171: UserWarning: Implicit dimension choice for softmax has been deprecated. Change the call to include dim=X as an argument.\n",
      "  preds = F.softmax(out)\n",
      "/home/zhifeng/sail_data/NIPS2018/addtional/dmn/dmn/models/dmnModel.py:210: UserWarning: invalid index of a 0-dim tensor. This will be an error in PyTorch 0.5. Use tensor.item() to convert a 0-dim tensor to a Python number\n",
      "  print('[Epoch %d] [Training] loss : %f, acc : %f, batch_idx : %d' % (epoch, loss.data[0], (total_acc/cnt), batch_idx))\n"
     ]
    },
    {
     "name": "stdout",
     "output_type": "stream",
     "text": [
      "[Epoch 0] [Training] loss : 378.731903, acc : 0.000000, batch_idx : 0\n",
      "[Epoch 0] [Training] loss : 104.941925, acc : 0.467143, batch_idx : 20\n",
      "[Epoch 0] [Training] loss : 64.718811, acc : 0.576098, batch_idx : 40\n",
      "[Epoch 0] [Training] loss : 62.179634, acc : 0.616885, batch_idx : 60\n",
      "[Epoch 0] [Training] loss : 56.543945, acc : 0.640494, batch_idx : 80\n",
      "[Epoch 0] [Validate] Accuracy : 0.730000\n",
      "[Epoch 1] [Training] loss : 68.034340, acc : 0.660000, batch_idx : 0"
     ]
    }
   ],
   "source": [
    "for i in range(10):\n",
    "    dmn = DMN(vocab_size, hidden_size)\n",
    "    train_dmn(dset, batch_size, epoch, dmn)\n",
    "    dset.set_mode('test')\n",
    "    dmn.eval()\n",
    "    test_dmn(dset, 10, dmn)\n",
    "    torch.save(dmn, './trained_DMNs/qa20_%d.pt' % i)"
   ]
  },
  {
   "cell_type": "code",
   "execution_count": null,
   "metadata": {
    "collapsed": true
   },
   "outputs": [],
   "source": []
  },
  {
   "cell_type": "code",
   "execution_count": null,
   "metadata": {
    "collapsed": false
   },
   "outputs": [],
   "source": [
    "from models.baselineModel import test as test_baseline\n",
    "modelLoaded = torch.load('./trained_DMNs/qa20_9.pt')\n",
    "dset.set_mode('test')\n",
    "modelLoaded.eval()\n",
    "test_dmn(dset, 10, modelLoaded)"
   ]
  },
  {
   "cell_type": "code",
   "execution_count": null,
   "metadata": {
    "collapsed": true
   },
   "outputs": [],
   "source": []
  }
 ],
 "metadata": {
  "kernelspec": {
   "display_name": "Python 3",
   "language": "python",
   "name": "python3"
  },
  "language_info": {
   "codemirror_mode": {
    "name": "ipython",
    "version": 3
   },
   "file_extension": ".py",
   "mimetype": "text/x-python",
   "name": "python",
   "nbconvert_exporter": "python",
   "pygments_lexer": "ipython3",
   "version": "3.5.4"
  }
 },
 "nbformat": 4,
 "nbformat_minor": 0
}
